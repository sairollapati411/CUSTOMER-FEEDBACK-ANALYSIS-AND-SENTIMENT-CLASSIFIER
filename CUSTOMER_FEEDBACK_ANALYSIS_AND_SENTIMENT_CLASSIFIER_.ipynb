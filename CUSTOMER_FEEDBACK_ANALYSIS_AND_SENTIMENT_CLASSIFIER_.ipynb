{
  "nbformat": 4,
  "nbformat_minor": 0,
  "metadata": {
    "colab": {
      "provenance": []
    },
    "kernelspec": {
      "name": "python3",
      "display_name": "Python 3"
    },
    "language_info": {
      "name": "python"
    }
  },
  "cells": [
    {
      "cell_type": "code",
      "source": [
        "# OJECT-ORIENTED DESIGN"
      ],
      "metadata": {
        "id": "GN66d1tI1y8H"
      },
      "execution_count": null,
      "outputs": []
    },
    {
      "cell_type": "code",
      "execution_count": null,
      "metadata": {
        "id": "ixqEPYPsmj-q"
      },
      "outputs": [],
      "source": [
        "class Customer:\n",
        "    def __init__(self, customer_id, name):\n",
        "        self.customer_id = customer_id\n",
        "        self.name = name\n",
        "        self.reviews = []\n",
        "\n",
        "    def add_review(self, review):\n",
        "        self.reviews.append(review)\n",
        "\n",
        "class Review:\n",
        "    def __init__(self, product_id, review_text, date, rating):\n",
        "        self.product_id = product_id\n",
        "        self.review_text = review_text\n",
        "        self.date = date\n",
        "        self.rating = rating\n",
        "\n",
        "class SentimentAnalyzer:\n",
        "    def __init__(self, analyzer):\n",
        "        self.analyzer = analyzer\n",
        "\n",
        "    def analyze_sentiment(self, review_text):\n",
        "        return self.analyzer.polarity_scores(review_text)"
      ]
    },
    {
      "cell_type": "code",
      "source": [],
      "metadata": {
        "id": "cuQ1yvi8m0oE"
      },
      "execution_count": null,
      "outputs": []
    },
    {
      "cell_type": "code",
      "source": [
        "class DetailedReview(Review):\n",
        "    def __init__(self, product_id, review_text, date, rating, pros, cons):\n",
        "        super().__init__(product_id, review_text, date, rating)\n",
        "        self.pros = pros\n",
        "        self.cons = cons"
      ],
      "metadata": {
        "id": "eIjaRjM7m1GQ"
      },
      "execution_count": null,
      "outputs": []
    },
    {
      "cell_type": "code",
      "source": [],
      "metadata": {
        "id": "WEB-vRi02Hi9"
      },
      "execution_count": null,
      "outputs": []
    },
    {
      "cell_type": "code",
      "source": [
        "# FILE HANDLING"
      ],
      "metadata": {
        "id": "G9mSEG_-m8eZ"
      },
      "execution_count": null,
      "outputs": []
    },
    {
      "cell_type": "code",
      "source": [
        "import csv\n",
        "\n",
        "def save_reviews_to_csv(reviews, filename='reviews.csv'):\n",
        "    with open(filename, mode='w', newline='') as file:\n",
        "        writer = csv.writer(file)\n",
        "        writer.writerow(['Customer ID', 'Product ID', 'Review', 'Date', 'Rating'])\n",
        "        for review in reviews:\n",
        "            writer.writerow([review.customer_id, review.product_id, review.review_text, review.date, review.rating])"
      ],
      "metadata": {
        "id": "f9pHaHjlm8PH"
      },
      "execution_count": null,
      "outputs": []
    },
    {
      "cell_type": "code",
      "source": [],
      "metadata": {
        "id": "Vw_tsQxY2IyL"
      },
      "execution_count": null,
      "outputs": []
    },
    {
      "cell_type": "code",
      "source": [
        "# SENTIMENT ANALYSIS USING DECORATORS"
      ],
      "metadata": {
        "id": "Ti5MZ8rQnD0-"
      },
      "execution_count": null,
      "outputs": []
    },
    {
      "cell_type": "code",
      "source": [
        "from textblob import TextBlob\n",
        "\n",
        "def preprocess_review(func):\n",
        "    def wrapper(review_text):\n",
        "        # Preprocessing: lowercasing and removing punctuation\n",
        "        processed_text = ''.join(e for e in review_text if e.isalnum() or e.isspace()).lower()\n",
        "        return func(processed_text)\n",
        "    return wrapper\n",
        "\n",
        "class SentimentAnalyzer:\n",
        "    @preprocess_review\n",
        "    def analyze_sentiment(self, review_text):\n",
        "        analysis = TextBlob(review_text)\n",
        "        return 'positive' if analysis.sentiment.polarity > 0 else 'negative' if analysis.sentiment.polarity < 0 else 'neutral'"
      ],
      "metadata": {
        "id": "U2PlJotWnEZ0"
      },
      "execution_count": null,
      "outputs": []
    },
    {
      "cell_type": "code",
      "source": [
        "!pip install textblob"
      ],
      "metadata": {
        "colab": {
          "base_uri": "https://localhost:8080/"
        },
        "id": "0mnxmzp6qurY",
        "outputId": "410c3553-1919-43a0-b6c1-63caa14a8bb2"
      },
      "execution_count": null,
      "outputs": [
        {
          "output_type": "stream",
          "name": "stdout",
          "text": [
            "Requirement already satisfied: textblob in /usr/local/lib/python3.10/dist-packages (0.17.1)\n",
            "Requirement already satisfied: nltk>=3.1 in /usr/local/lib/python3.10/dist-packages (from textblob) (3.8.1)\n",
            "Requirement already satisfied: click in /usr/local/lib/python3.10/dist-packages (from nltk>=3.1->textblob) (8.1.7)\n",
            "Requirement already satisfied: joblib in /usr/local/lib/python3.10/dist-packages (from nltk>=3.1->textblob) (1.4.2)\n",
            "Requirement already satisfied: regex>=2021.8.3 in /usr/local/lib/python3.10/dist-packages (from nltk>=3.1->textblob) (2024.5.15)\n",
            "Requirement already satisfied: tqdm in /usr/local/lib/python3.10/dist-packages (from nltk>=3.1->textblob) (4.66.5)\n"
          ]
        }
      ]
    },
    {
      "cell_type": "code",
      "source": [
        "from textblob import TextBlob\n",
        "import re\n",
        "\n",
        "# Decorator to preprocess text\n",
        "def preprocess_text(func):\n",
        "    def wrapper(text):\n",
        "        # Convert text to lowercase\n",
        "        text = text.lower()\n",
        "        # Remove special characters and digits\n",
        "        text = re.sub(r'[^a-zA-Z\\s]', '', text)\n",
        "        # Call the original function with preprocessed text\n",
        "        return func(text)\n",
        "    return wrapper\n",
        "\n",
        "# Decorator to log sentiment analysis results\n",
        "def log_results(func):\n",
        "    def wrapper(text):\n",
        "        result = func(text)\n",
        "        print(f\"Analyzing text: '{text}'\")\n",
        "        print(f\"Sentiment polarity: {result[0]}\")\n",
        "        print(f\"Sentiment subjectivity: {result[1]}\")\n",
        "        return result\n",
        "    return wrapper\n",
        "\n",
        "# Sentiment analysis function\n",
        "@preprocess_text\n",
        "@log_results\n",
        "def analyze_sentiment(text):\n",
        "    blob = TextBlob(text)\n",
        "    return (blob.sentiment.polarity, blob.sentiment.subjectivity)\n",
        "\n",
        "# Example usage\n",
        "text = \"I absolutely love this product! It's amazing and works flawlessly.\"\n",
        "analyze_sentiment(text)\n"
      ],
      "metadata": {
        "colab": {
          "base_uri": "https://localhost:8080/"
        },
        "id": "m7rI75Lsq_9S",
        "outputId": "7ec9db63-4e1d-41e0-c127-30cc47986faa"
      },
      "execution_count": null,
      "outputs": [
        {
          "output_type": "stream",
          "name": "stdout",
          "text": [
            "Analyzing text: 'i absolutely love this product its amazing and works flawlessly'\n",
            "Sentiment polarity: 0.7000000000000001\n",
            "Sentiment subjectivity: 0.8333333333333334\n"
          ]
        },
        {
          "output_type": "execute_result",
          "data": {
            "text/plain": [
              "(0.7000000000000001, 0.8333333333333334)"
            ]
          },
          "metadata": {},
          "execution_count": 9
        }
      ]
    },
    {
      "cell_type": "code",
      "source": [],
      "metadata": {
        "id": "Ggqy9gGL2ad7"
      },
      "execution_count": null,
      "outputs": []
    },
    {
      "cell_type": "code",
      "source": [
        "# PANDAS-BASED CALCULATIONS"
      ],
      "metadata": {
        "id": "z3iy8_X5nJ8M"
      },
      "execution_count": null,
      "outputs": []
    },
    {
      "cell_type": "code",
      "source": [
        "import pandas as pd\n",
        "\n",
        "def analyze_feedback(filename='reviews.csv'):\n",
        "    df = pd.read_csv(filename)\n",
        "    overall_satisfaction = df['Rating'].mean()\n",
        "    product_ratings = df.groupby('Product ID')['Rating'].mean()\n",
        "    positive_reviews = df[df['Review'].apply(lambda x: 'positive' in x)]\n",
        "    negative_reviews = df[df['Review'].apply(lambda x: 'negative' in x)]\n",
        "    return overall_satisfaction, product_ratings, positive_reviews, negative_reviews"
      ],
      "metadata": {
        "id": "hQsKUXwSnKZ8"
      },
      "execution_count": null,
      "outputs": []
    },
    {
      "cell_type": "code",
      "source": [],
      "metadata": {
        "id": "Q46ABgeInOyc"
      },
      "execution_count": null,
      "outputs": []
    },
    {
      "cell_type": "code",
      "source": [
        "#Date, Product, Region,save_reviews_to_csv\n",
        "\"2024-01-01\",\"Widget\" \"A\",\"North\",100\n",
        "\"2024-01-02\",\"Widget\" \"B\",\"South\",150\n",
        "\"2024-01-03\",\"Widget\" \"A\",\"East\",200\n",
        "\"2024-01-04\",\"Widget\" \"B\",\"West\",250\n",
        "\"2024-01-05\",\"Widget\" \"A\",\"North\",300\n",
        "\"2024-01-06\",\"Widget\" \"C\",\"South\",400\n"
      ],
      "metadata": {
        "colab": {
          "base_uri": "https://localhost:8080/"
        },
        "id": "Rw6PzcYVrpWK",
        "outputId": "77efce56-def8-43bd-af89-09c9fbc5a0d6"
      },
      "execution_count": null,
      "outputs": [
        {
          "output_type": "execute_result",
          "data": {
            "text/plain": [
              "('2024-01-06', 'WidgetC', 'South', 400)"
            ]
          },
          "metadata": {},
          "execution_count": 10
        }
      ]
    },
    {
      "cell_type": "code",
      "source": [
        "import pandas as pd\n",
        "\n",
        "# Load the data from a CSV file\n",
        "df = pd.read_csv('reviews.csv')\n",
        "\n",
        "# Display the first few rows of the dataframe\n",
        "print(\"Initial Data:\")\n",
        "print(df.head())\n",
        "\n",
        "# 1. Data Summary\n",
        "print(\"\\nData Summary:\")\n",
        "print(df.describe())\n",
        "\n",
        "# 2. Data Types and Missing Values\n",
        "print(\"\\nData Types and Missing Values:\")\n",
        "print(df.info())\n",
        "\n",
        "# 3. Total Sales by Product\n",
        "print(\"\\nTotal Sales by Product:\")\n",
        "total_sales_by_product = df.groupby('Product')['Sales'].sum()\n",
        "print(total_sales_by_product)\n",
        "\n",
        "# 4. Average Sales by Region\n",
        "print(\"\\nAverage Sales by Region:\")\n",
        "average_sales_by_region = df.groupby('Region')['Sales'].mean()\n",
        "print(average_sales_by_region)\n",
        "\n",
        "# 5. Sales Trend Over Time\n",
        "print(\"\\nSales Trend Over Time:\")\n",
        "df['Date'] = pd.to_datetime(df['Date'])\n",
        "sales_trend = df.groupby('Date')['Sales'].sum()\n",
        "print(sales_trend)\n",
        "\n",
        "# 6. Filtering Data\n",
        "print(\"\\nSales for Widget A:\")\n",
        "widget_a_sales = df[df['Product'] == 'Widget A']\n",
        "print(widget_a_sales)\n",
        "\n",
        "# 7. Pivot Table for Sales by Product and Region\n",
        "print(\"\\nPivot Table for Sales by Product and Region:\")\n",
        "pivot_table = pd.pivot_table(df, values='Sales', index='Product', columns='Region', aggfunc='sum', fill_value=0)\n",
        "print(pivot_table)\n"
      ],
      "metadata": {
        "id": "mDQaf1XU7QoO"
      },
      "execution_count": null,
      "outputs": []
    },
    {
      "cell_type": "code",
      "source": [],
      "metadata": {
        "id": "_-9olVAL2nwN"
      },
      "execution_count": null,
      "outputs": []
    },
    {
      "cell_type": "code",
      "source": [
        "# NUMPY-BASED CALCULATIONS"
      ],
      "metadata": {
        "id": "9uDDKeVC2pmm"
      },
      "execution_count": null,
      "outputs": []
    },
    {
      "cell_type": "code",
      "source": [
        "import numpy as np\n",
        "\n",
        "def calculate_statistics(df):\n",
        "    ratings = np.array(df['Rating'])\n",
        "    return {\n",
        "        'mean': np.mean(ratings),\n",
        "        'median': np.median(ratings),\n",
        "        'mode': pd.Series(ratings).mode()[0]\n",
        "    }"
      ],
      "metadata": {
        "id": "4p9vvCNvnPHc"
      },
      "execution_count": null,
      "outputs": []
    },
    {
      "cell_type": "code",
      "source": [],
      "metadata": {
        "id": "nzkasP8FnSvW"
      },
      "execution_count": null,
      "outputs": []
    },
    {
      "cell_type": "code",
      "source": [
        "# TESTING AND ERROR HANDLING"
      ],
      "metadata": {
        "id": "23E-THu22yxP"
      },
      "execution_count": null,
      "outputs": []
    },
    {
      "cell_type": "code",
      "source": [
        "import unittest\n",
        "\n",
        "class TestCustomerFeedback(unittest.TestCase):\n",
        "    def test_add_review(self):\n",
        "        customer = Customer(1, 'John Doe')\n",
        "        review = Review(101, 'Great product!', '2024-09-11', 5)\n",
        "        customer.add_review(review)\n",
        "        self.assertEqual(len(customer.reviews), 1)\n",
        "\n",
        "    def test_sentiment_analysis(self):\n",
        "        analyzer = SentimentAnalyzer(TextBlob)\n",
        "        sentiment = analyzer.analyze_sentiment('I love this product!')\n",
        "        self.assertEqual(sentiment, 'positive')\n",
        "\n",
        "if __name__ == '__main__':\n",
        "    unittest.main()"
      ],
      "metadata": {
        "colab": {
          "base_uri": "https://localhost:8080/",
          "height": 317
        },
        "id": "3O6wzQcCnTJ_",
        "outputId": "c883ff49-563f-4ae8-c43d-db8b7fc76df1"
      },
      "execution_count": null,
      "outputs": [
        {
          "output_type": "stream",
          "name": "stderr",
          "text": [
            "E\n",
            "======================================================================\n",
            "ERROR: /root/ (unittest.loader._FailedTest)\n",
            "----------------------------------------------------------------------\n",
            "AttributeError: module '__main__' has no attribute '/root/'\n",
            "\n",
            "----------------------------------------------------------------------\n",
            "Ran 1 test in 0.003s\n",
            "\n",
            "FAILED (errors=1)\n"
          ]
        },
        {
          "output_type": "error",
          "ename": "SystemExit",
          "evalue": "True",
          "traceback": [
            "An exception has occurred, use %tb to see the full traceback.\n",
            "\u001b[0;31mSystemExit\u001b[0m\u001b[0;31m:\u001b[0m True\n"
          ]
        },
        {
          "output_type": "stream",
          "name": "stderr",
          "text": [
            "/usr/local/lib/python3.10/dist-packages/IPython/core/interactiveshell.py:3561: UserWarning: To exit: use 'exit', 'quit', or Ctrl-D.\n",
            "  warn(\"To exit: use 'exit', 'quit', or Ctrl-D.\", stacklevel=1)\n"
          ]
        }
      ]
    }
  ]
}